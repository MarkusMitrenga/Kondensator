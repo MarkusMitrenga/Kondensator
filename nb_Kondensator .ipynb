{
 "cells": [
  {
   "cell_type": "markdown",
   "metadata": {},
   "source": [
    "# Auf- und Entladen eines Kondensators"
   ]
  },
  {
   "cell_type": "markdown",
   "metadata": {},
   "source": [
    "<img src=\"kondensator_schaltung_bild.png\" width=\"300\" height=\"300\">\n",
    "Das Auf- und Entladeverhalten eines Kondensators soll im folgenden näher untersucht werden. Hierzu sollen die gemessenen Werte mit den theoretisch berechenbaren Werten verglichen werden. Ausserdem kann aus dem Zeit-Spannungs-Diagramm die Kapazität des verwendeten Kondensators bestimmt werden."
   ]
  },
  {
   "cell_type": "markdown",
   "metadata": {},
   "source": [
    "## Darstellen der Messwerte als Diagramm"
   ]
  },
  {
   "cell_type": "markdown",
   "metadata": {},
   "source": [
    "Mittels des unteren Scripts kann ein hochgeladener csv-File als Schaubild dargestellt werden. Geben Sie hierzu den Dateinamen **ohne Endung** und einen passenden Titel für Ihr Diagramm ein.\n",
    "\n",
    "<div class=\"alert alert-block alert-warning\">\n",
    "<b>Aufgaben:</b> \n",
    "<ul>\n",
    "    <li>Untersuchen Sie das Auf- und Entladeverhalten von Kondensatoren verschiedener Kapazität. Achten Sie auf die Unterschiede und erklären Sie diese.</li>\n",
    "</ul>\n",
    "</div>"
   ]
  },
  {
   "cell_type": "code",
   "execution_count": null,
   "metadata": {
    "scrolled": false
   },
   "outputs": [],
   "source": [
    "import glob,sys,os,string,csv\n",
    "import matplotlib.pyplot as plt\n",
    "import numpy as np\n",
    "import pandas as pd\n",
    "from scipy import stats\n",
    "\n",
    "print(\"Gefundene Files: \" + \"\\n\")\n",
    "for i in glob.glob('*.csv'):\n",
    "    print(i)\n",
    "    \n",
    "name = input(\"\\n\" + \"Dateinamen ohne Endung angeben: \")\n",
    "titel = input(\"\\n\" + \"Titel des Diagramms angeben: \")\n",
    "df = pd.read_csv(name+\".csv\",sep=\",\",names=[\"t\",\"u\"],skiprows=[0])\n",
    "df.style\n",
    "plt.scatter(df.t,df.u,marker = \"+\")\n",
    "plt.title(titel)\n",
    "plt.ylabel('U [V]')\n",
    "plt.xlabel('t [ms]')\n",
    "plt.grid(which='major', axis='both')"
   ]
  },
  {
   "cell_type": "markdown",
   "metadata": {},
   "source": [
    "## Vergleich der gemessenen Werte mit der Theorie\n",
    "Zu den in der Tabelle df.t enthaltenen Zeiten sollen die theoretischen Spannungen berechnet werden. Beachten Sie hierzu, dass der Arduino max. 5 V Spannung liefern kann. Überlegen Sie, wie die Gleichungen zur theoretischen Berechnung der Spannungswerte aussehen müssen.\n",
    "\n",
    "<div class=\"alert alert-block alert-warning\">\n",
    "<b>Aufgaben:</b>\n",
    "<ul>\n",
    "    <li><b>Berechnen</b> Sie die theoretischen Verläufe für einen Auflade- bzw. Entladevorgang. Achten Sie auf die Eingabe der richtigen Werte für den Widerstand und die Kapazität.</li>\n",
    "    <li><b>Vergleichen</b> Sie für verschiedene Fälle die gemessenen Werte mit den theoretischen Werten.         <b>Beurteilen</b> Sie das Ergebnis.</li>\n",
    "</ul>\n",
    "</div>"
   ]
  },
  {
   "cell_type": "code",
   "execution_count": null,
   "metadata": {},
   "outputs": [],
   "source": [
    "# Hilfsfunktion zum Herausfinden, ob ein Auf- oder Entladevorgang betrachtet werden soll\n",
    "def getArt(y):\n",
    "        l1 = int(len(y)/2)\n",
    "        l2 = int(l1 + (len(y)-l1)/2)\n",
    "        delta_y = y[l2] - y[l1]\n",
    "        if (delta_y > 0):\n",
    "            return 1\n",
    "        else:\n",
    "            return -1\n",
    "# Gleichung zum Berechnen der theoretischen Spannungen für den Aufladevorgang\n",
    "def aufladen(x,c,r):\n",
    "        z = 5.0 * (1 - np.exp(-(x/1000)/(1000*r*c/1000000)))\n",
    "        return z\n",
    "    \n",
    "# Gleichung zum Berechnen der theoretischen Spannungen für den Entladevorgang  \n",
    "def entladen(x,c,r):\n",
    "        z = 5.0 * (np.exp(-(x/1000)/(1000*r*c/1000000)))\n",
    "        return z\n",
    "    \n",
    "# Berechnen der passenden Spannungswerte    \n",
    "flag = getArt(df.u)\n",
    "x = df.t\n",
    "c = int(input(\"\\n\" +\"Kapazität in mikroF: \"))\n",
    "r = int(input(\"\\n\" +\"Widerstand in kiloOhm: \"))\n",
    "if (flag == 1):\n",
    "    z = aufladen(x,c,r)\n",
    "else:\n",
    "    z = entladen(x,c,r)\n",
    "\n",
    "# Erstellen des Diagramms\n",
    "plt.scatter(df.t,df.u,z, marker='+',c=\"b\")\n",
    "plt.plot(df.t,z,c=\"r\")\n",
    "plt.title(titel)\n",
    "plt.ylabel('U [V]')\n",
    "plt.xlabel('t [ms]')\n",
    "plt.grid(which='major', axis='both')"
   ]
  },
  {
   "cell_type": "markdown",
   "metadata": {},
   "source": [
    "## Bestimmung der Kapazität des Kondensators aus den Messwerten.\n",
    "\n",
    "Kennt man die oben verwendete Gleichung, so kann man aus dem Diagramm die Kapazität des Kondensators bestimmen.\n",
    "\n",
    "<div class=\"alert alert-block alert-warning\">\n",
    "<b>Aufgaben:</b>\n",
    "Kennt man der Widerstand R und die maximale Spannung U, so ist es leicht möglich die Kapazität des Kondensators aus der Auflade- oder der Entladekurve zu bestimmen. Für den Arduino beträgt diese max. Spannung 5V. Den Wert des Widerstandes entnehmen Sie der Schaltung.\n",
    "<ul>\n",
    "    <li> Für die Aufladekurve gilt bei einer Spannung U = 3.16 V der Zusammenhang t = RC. <b>Bestimmen</b>\n",
    "    Sie aus dem Diagramm die Kapazität des verwendeten Kondensators im mikroF.</li>\n",
    "    <li>Für die Entladekurve muss man von einem Spannungswert U = 1.86 V ausgehen, die restliche Rechnung ist identisch. <b>Bestimmen</b> Sie C aus der Entladekurve.</li>\n",
    "    <li><b>Zeigen</b> Sie unter Verwendung der max. Spannung U = 5 V und dem Zusammenhang t = RC, wie die zum Ablesen aus dem Diagramm der Auflade- oder Entladekurve verwendeten Spannungswerte U = 3.16 V und U = 1.86 V zustande kommen. </li>\n",
    "</ul>\n",
    "</div>"
   ]
  },
  {
   "cell_type": "code",
   "execution_count": null,
   "metadata": {},
   "outputs": [],
   "source": [
    "# Hilfsfunktion zur Bestimmung der Kapazität\n",
    "def getKapaz(x,y,r):\n",
    "        if(flag == 1):   #Aufladen oder Entladen?\n",
    "            u0 = 3.16\n",
    "        else:\n",
    "            u0 = 1.84\n",
    "            \n",
    "        u = 0\n",
    "        test = 99\n",
    "        for idx, val in enumerate(y): # Finden des zu u0 nächsten Wertes und der dazugehörigen Zeit.\n",
    "            if(np.abs(val - u0) < test):\n",
    "                test = np.abs(val - u0)\n",
    "                t = x[idx]\n",
    "                u = val\n",
    "                 \n",
    "        tkorr = u0 * t / u # Anpassung der Zeit\n",
    "        kapaz = tkorr/r*1000\n",
    "            \n",
    "        return tkorr, kapaz, u0\n",
    "    \n",
    "r = r*1000\n",
    "t, c, u0 = getKapaz(df.t,df.u,r)\n",
    "kapaz = 'Kapazitaet : %4.1f' % (c) + r' $\\mu$' + 'F'\n",
    "plt.scatter(df.t,df.u,z, marker='+',c=\"b\")\n",
    "plt.plot(df.t,z,c=\"r\")\n",
    "plt.title(titel)\n",
    "plt.ylabel('U [V]')\n",
    "plt.xlabel('t [ms]')\n",
    "plt.grid(which='major', axis='both')\n"
    "plt.text(t+len(x)/10,u0-0.2,kapaz)\n",
    "plt.plot([t,t],[0,u0],'k')\n",
    "plt.plot([0,t],[u0,u0],'k')"
   ]
  },
  {
   "cell_type": "code",
   "execution_count": null,
   "metadata": {},
   "outputs": [],
   "source": []
  }
 ],
 "metadata": {
  "kernelspec": {
   "display_name": "Python 3",
   "language": "python",
   "name": "python3"
  },
  "language_info": {
   "codemirror_mode": {
    "name": "ipython",
    "version": 3
   },
   "file_extension": ".py",
   "mimetype": "text/x-python",
   "name": "python",
   "nbconvert_exporter": "python",
   "pygments_lexer": "ipython3",
   "version": "3.5.6"
  }
 },
 "nbformat": 4,
 "nbformat_minor": 2
}
